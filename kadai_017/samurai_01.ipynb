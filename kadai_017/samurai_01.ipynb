{
  "nbformat": 4,
  "nbformat_minor": 0,
  "metadata": {
    "colab": {
      "provenance": []
    },
    "kernelspec": {
      "name": "python3",
      "display_name": "Python 3"
    },
    "language_info": {
      "name": "python"
    }
  },
  "cells": [
    {
      "cell_type": "code",
      "source": [
        "#配列（ディクショナリ、リスト、タプル、セット）\n",
        "#ディクショナリ{:,:},リスト[], タプル(), セット{}\n",
        "#ディクショナリは、キーがリストのインデックス番号と同じと考えると良い\n",
        "#while文を使えば、「条件を満たしている間」同じ処理を繰り返し行えます。\n",
        "#while 条件式:\n",
        " #   条件を満たしている間、繰り返す処理\n",
        "#while文もfor文と同様、break文やcontinue文が使える\n",
        "#break文：繰り返し処理の途中で強制終了し、ループから抜け出す命令\n",
        "#continue文：繰り返し処理の途中で中断し、次のループに進む命令\n",
        "#関数、関数名(引数):で関数を定義。関数を呼び出すときは、関数名(引数に代入するもの)で呼び出す\n",
        "#クラスのイメージ。クラス名は、変数に代入して使う感じ。そして、変数.属性とかで色々できるイメーj\n",
        "#クラス；属性の部分では、インスタンス化する時の引数を決めている。\n",
        "#クラス内の属性と、メソッドへのアクセス方法は変わらない。扱い的には、属性は変数、メソッドは関数のイメージ\n"
      ],
      "metadata": {
        "id": "kkNu0VJJ7TPC"
      },
      "execution_count": null,
      "outputs": []
    },
    {
      "cell_type": "markdown",
      "source": [],
      "metadata": {
        "id": "3OshtcpkJ_fY"
      }
    },
    {
      "cell_type": "code",
      "source": [
        "class Human():\n",
        "    def __init__(self, name, age):\n",
        "        self.name = name\n",
        "        self.age = age\n",
        "\n",
        "    def check_adult(self,age):\n",
        "      if age>19:\n",
        "        print(f\"{self.name}さんは大人です\")\n",
        "      else:\n",
        "        print(f\"{self.name}さんは大人ではありません\")\n",
        "\n",
        "human_list=[Human(\"侍太郎\", 36),Human(\"侍花子\",22),Human(\"侍\",18)]\n",
        "\n",
        "for humans in human_list:\n",
        "  humans.check_adult\n"
      ],
      "metadata": {
        "id": "TsFVuEBvVr9V"
      },
      "execution_count": 16,
      "outputs": []
    }
  ]
}