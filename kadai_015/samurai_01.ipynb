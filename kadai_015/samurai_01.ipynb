{
  "nbformat": 4,
  "nbformat_minor": 0,
  "metadata": {
    "colab": {
      "provenance": []
    },
    "kernelspec": {
      "name": "python3",
      "display_name": "Python 3"
    },
    "language_info": {
      "name": "python"
    }
  },
  "cells": [
    {
      "cell_type": "code",
      "source": [
        "#配列（ディクショナリ、リスト、タプル、セット）\n",
        "#ディクショナリ{:,:},リスト[], タプル(), セット{}\n",
        "#ディクショナリは、キーがリストのインデックス番号と同じと考えると良い\n",
        "#while文を使えば、「条件を満たしている間」同じ処理を繰り返し行えます。\n",
        "#while 条件式:\n",
        " #   条件を満たしている間、繰り返す処理\n",
        "#while文もfor文と同様、break文やcontinue文が使える\n",
        "#break文：繰り返し処理の途中で強制終了し、ループから抜け出す命令\n",
        "#continue文：繰り返し処理の途中で中断し、次のループに進む命令\n",
        "#関数、関数名(引数):で関数を定義。関数を呼び出すときは、関数名(引数に代入するもの)で呼び出す\n",
        "#クラスのイメージ。クラス名は、変数に代入して使う感じ。そして、変数.属性とかで色々できるイメーj\n",
        "#クラス；属性の部分では、インスタンス化する時の引数を決めている。\n",
        "#クラス内の属性と、メソッドへのアクセス方法は変わらない。扱い的には、属性は変数、メソッドは関数のイメージ\n"
      ],
      "metadata": {
        "id": "kkNu0VJJ7TPC"
      },
      "execution_count": 5,
      "outputs": []
    },
    {
      "cell_type": "markdown",
      "source": [],
      "metadata": {
        "id": "3OshtcpkJ_fY"
      }
    },
    {
      "cell_type": "code",
      "source": [
        "class Human():\n",
        "    def __init__(self, name, age):\n",
        "        self.name = name\n",
        "        self.age = age\n",
        "\n",
        "    def printinfo(self):\n",
        "        print(self.name)\n",
        "        print(self.age)\n",
        "\n",
        "# インスタンスを作成し、具体的な値を代入\n",
        "humans = Human(\"侍太郎\", 36)\n",
        "\n",
        "# インスタンスの属性を出力\n",
        "humans.printinfo()\n"
      ],
      "metadata": {
        "colab": {
          "base_uri": "https://localhost:8080/"
        },
        "id": "TsFVuEBvVr9V",
        "outputId": "7e8068ca-b787-40ba-a206-49cbabc2e56a"
      },
      "execution_count": 11,
      "outputs": [
        {
          "output_type": "execute_result",
          "data": {
            "text/plain": [
              "110.0"
            ]
          },
          "metadata": {},
          "execution_count": 11
        }
      ]
    }
  ]
}