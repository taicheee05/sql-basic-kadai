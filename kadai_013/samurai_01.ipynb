{
  "nbformat": 4,
  "nbformat_minor": 0,
  "metadata": {
    "colab": {
      "provenance": []
    },
    "kernelspec": {
      "name": "python3",
      "display_name": "Python 3"
    },
    "language_info": {
      "name": "python"
    }
  },
  "cells": [
    {
      "cell_type": "code",
      "source": [
        "#配列（ディクショナリ、リスト、タプル、セット）\n",
        "#ディクショナリ{:,:},リスト[], タプル(), セット{}\n",
        "#ディクショナリは、キーがリストのインデックス番号と同じと考えると良い\n",
        "#while文を使えば、「条件を満たしている間」同じ処理を繰り返し行えます。\n",
        "#while 条件式:\n",
        " #   条件を満たしている間、繰り返す処理\n",
        "#while文もfor文と同様、break文やcontinue文が使える\n",
        "#break文：繰り返し処理の途中で強制終了し、ループから抜け出す命令\n",
        "#continue文：繰り返し処理の途中で中断し、次のループに進む命令\n",
        "#関数、関数名(引数):で関数を定義。関数を呼び出すときは、関数名(引数に代入するもの)で呼び出す\n",
        "#クラスのイメージ。クラス名は、変数に代入して使う感じ。そして、変数.属性とかで色々できるイメーj\n"
      ],
      "metadata": {
        "id": "kkNu0VJJ7TPC"
      },
      "execution_count": 7,
      "outputs": []
    },
    {
      "cell_type": "markdown",
      "source": [],
      "metadata": {
        "id": "3OshtcpkJ_fY"
      }
    },
    {
      "cell_type": "code",
      "source": [
        "def tax_cal(price,tax):\n",
        "  price_include_tax=price+price*tax\n",
        "  print(price_include_tax)\n",
        "\n",
        "tax_cal(100,0.1)"
      ],
      "metadata": {
        "colab": {
          "base_uri": "https://localhost:8080/"
        },
        "id": "2lP5hHxbGsff",
        "outputId": "f6167406-5ff7-48ab-b2ce-8d127ce7a89f"
      },
      "execution_count": 8,
      "outputs": [
        {
          "output_type": "stream",
          "name": "stdout",
          "text": [
            "110.0\n"
          ]
        }
      ]
    }
  ]
}